{
 "cells": [
  {
   "cell_type": "code",
   "execution_count": null,
   "metadata": {},
   "outputs": [],
   "source": [
    "import json"
   ]
  },
  {
   "cell_type": "code",
   "execution_count": null,
   "metadata": {},
   "outputs": [],
   "source": [
    "with open('graph.json') as f:\n",
    "    graph = json.load(f)"
   ]
  },
  {
   "cell_type": "code",
   "execution_count": null,
   "metadata": {},
   "outputs": [],
   "source": [
    "graph"
   ]
  },
  {
   "cell_type": "code",
   "execution_count": null,
   "metadata": {},
   "outputs": [],
   "source": [
    "graph['nodes']"
   ]
  },
  {
   "cell_type": "code",
   "execution_count": null,
   "metadata": {},
   "outputs": [],
   "source": [
    "nodes = graph['nodes']\n",
    "edges = graph['edges']"
   ]
  },
  {
   "cell_type": "code",
   "execution_count": null,
   "metadata": {},
   "outputs": [],
   "source": [
    "for node, relationship in nodes.items():\n",
    "    print(node, relationship)"
   ]
  },
  {
   "cell_type": "code",
   "execution_count": null,
   "metadata": {},
   "outputs": [],
   "source": [
    "import matplotlib.pyplot as plt\n",
    "import networkx as nx\n",
    "import json\n",
    "\n",
    "import nltk\n",
    "from nltk.corpus import stopwords\n",
    "from nltk.tokenize import word_tokenize, sent_tokenize\n",
    "stop_words = set(stopwords.words('english'))"
   ]
  },
  {
   "cell_type": "code",
   "execution_count": null,
   "metadata": {},
   "outputs": [],
   "source": [
    "class GraphVisualization():\n",
    "    def __init__(self, json_path):\n",
    "        self.nodes = {}\n",
    "        self.edges = {}\n",
    "\n",
    "        # pull from json\n",
    "        knowledge_graph = {}\n",
    "        with open(json_path) as f:\n",
    "            knowledge_graph = json.load(f)\n",
    "        \n",
    "        nodes = knowledge_graph['nodes']\n",
    "        edges = knowledge_graph['edges']\n",
    "        for node, relationship in nodes.items():\n",
    "            self.nodes[node] = relationship\n",
    "        for relation, edge in edges.items():\n",
    "            self.edges[relation] = edge\n",
    "\n",
    "        self.graph = nx.Graph()\n",
    "    \n",
    "    def generate_graph_dict(self, sentence):\n",
    "        tokenized = sent_tokenize(sentence)\n",
    "        for i in tokenized:\n",
    "            wordsList = nltk.word_tokenize(i)\n",
    "\n",
    "            wordsList = [w for w in wordsList if not w in stop_words]\n",
    "\n",
    "            outputs = nltk.pos_tag(wordsList)\n",
    "\n",
    "        # self.edges = {('Anshul', 'dogs'): [\"loves\"]}\n",
    "        # self.nodes = {\"Anshul\": [(\"Anshul\", \"dogs\")], \"dogs\": [(\"Anshul\", \"dogs\")]}\n",
    "\n",
    "        nouns = []\n",
    "        relationship = \"\"\n",
    "\n",
    "        for word, label in outputs:\n",
    "            if \"NN\" in label or \"PRP\" in label:\n",
    "                nouns += [word]\n",
    "            elif \"JJ\" in label or \"VB\" in label:\n",
    "                relationship = word\n",
    "        \n",
    "        for i in range(len(nouns)-1):\n",
    "            self.append_data([(nouns[i], nouns[i+1]), relationship])\n",
    "            \n",
    "\n",
    "    def append_data(self, edge_connection):\n",
    "        # edge_connection structure: [(node1, node2), relationship]\n",
    "        # update nodes\n",
    "        node1 = edge_connection[0][0]\n",
    "        node2 = edge_connection[0][1]\n",
    "\n",
    "        if node1 not in self.nodes.keys():\n",
    "            self.nodes[node1] = [edge_connection[0]]\n",
    "        else:\n",
    "            self.nodes[node1].append(edge_connection[0])\n",
    "        \n",
    "        if node2 not in self.nodes.keys():\n",
    "            self.nodes[node2] = [edge_connection[0]]\n",
    "        else:\n",
    "            self.nodes[node2].append(edge_connection[0])\n",
    "\n",
    "        if edge_connection[0] not in self.edges.keys():\n",
    "            self.edges[edge_connection[0]] = [edge_connection[1]]\n",
    "        else:\n",
    "            self.edges[edge_connection[0]].append(edge_connection[1])\n",
    "    \n",
    "    def pull_data(self, node):\n",
    "        relationships = self.nodes[node]\n",
    "        return_sequence = []\n",
    "        #outputs a list of sentences which can be directly tokenized and prepended to prompt\n",
    "        for i in range(len(relationships)):\n",
    "            for j in self.edges[relationships[i]]:\n",
    "                return_sequence += [relationships[i][0] + \" \" + j + \" \" + relationships[i][1]]\n",
    "        return return_sequence\n",
    "\n",
    "    def draw_graph(self):\n",
    "        self.graph.add_edges_from(self.edges.keys())\n",
    "        pos = nx.spring_layout(self.graph)\n",
    "\n",
    "        fig, ax = plt.subplots(figsize=(12,12))\n",
    "        nx.draw(\n",
    "            self.graph, pos, edge_color='#696969', width=1, linewidths=1,\n",
    "            node_size=500, node_color='#696969', alpha=0.9, font_color=\"#b0b0b0\",\n",
    "            labels={node: node for node in self.graph.nodes()}\n",
    "        )\n",
    "        nx.draw_networkx_edge_labels(\n",
    "            self.graph, pos,\n",
    "            edge_labels=self.edges,\n",
    "            font_color='#b0b0b0',\n",
    "            bbox=dict(facecolor='#121212', edgecolor='#121212'))\n",
    "        ax.set_facecolor('#121212')\n",
    "        ax.axis('off')\n",
    "        fig.set_facecolor('#121212')\n",
    "        plt.show()"
   ]
  },
  {
   "cell_type": "code",
   "execution_count": null,
   "metadata": {},
   "outputs": [],
   "source": [
    "g = GraphVisualization('graph.json')"
   ]
  },
  {
   "cell_type": "code",
   "execution_count": null,
   "metadata": {},
   "outputs": [],
   "source": [
    "g.nodes"
   ]
  },
  {
   "cell_type": "code",
   "execution_count": null,
   "metadata": {},
   "outputs": [],
   "source": [
    "g.edges"
   ]
  },
  {
   "cell_type": "code",
   "execution_count": null,
   "metadata": {},
   "outputs": [],
   "source": []
  }
 ],
 "metadata": {
  "kernelspec": {
   "display_name": "Python 3.9.10 ('env': venv)",
   "language": "python",
   "name": "python3"
  },
  "language_info": {
   "codemirror_mode": {
    "name": "ipython",
    "version": 3
   },
   "file_extension": ".py",
   "mimetype": "text/x-python",
   "name": "python",
   "nbconvert_exporter": "python",
   "pygments_lexer": "ipython3",
   "version": "3.9.10"
  },
  "orig_nbformat": 4,
  "vscode": {
   "interpreter": {
    "hash": "b616242c1b0d2958caf24bb8b05542b2a49c949c15ce971679a1a24ceea3d2a1"
   }
  }
 },
 "nbformat": 4,
 "nbformat_minor": 2
}
